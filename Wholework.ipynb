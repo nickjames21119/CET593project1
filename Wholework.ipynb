{
 "cells": [
  {
   "cell_type": "code",
   "id": "initial_id",
   "metadata": {
    "collapsed": true,
    "ExecuteTime": {
     "end_time": "2025-02-24T00:10:57.892815Z",
     "start_time": "2025-02-24T00:10:53.220355Z"
    }
   },
   "source": [
    "%pip install git+https://github.com/iuts-beb-chargers/2025-CET-593-beb_chargers.git\n",
    "%pip install -r https://raw.githubusercontent.com/iuts-beb-chargers/2025-CET-593-beb_chargers/main/requirements.txt"
   ],
   "outputs": [
    {
     "name": "stdout",
     "output_type": "stream",
     "text": [
      "Collecting git+https://github.com/iuts-beb-chargers/2025-CET-593-beb_chargers.gitNote: you may need to restart the kernel to use updated packages.\n",
      "\n",
      "  Cloning https://github.com/iuts-beb-chargers/2025-CET-593-beb_chargers.git to c:\\users\\nick_james\\appdata\\local\\temp\\pip-req-build-st1cuhiq\n",
      "  Resolved https://github.com/iuts-beb-chargers/2025-CET-593-beb_chargers.git to commit 72d506adeaed3f6cc3a9277308e1168f6adb87aa\n",
      "  Preparing metadata (setup.py): started\n",
      "  Preparing metadata (setup.py): finished with status 'done'\n"
     ]
    },
    {
     "name": "stderr",
     "output_type": "stream",
     "text": [
      "  Running command git clone --filter=blob:none --quiet https://github.com/iuts-beb-chargers/2025-CET-593-beb_chargers.git 'C:\\Users\\Nick_James\\AppData\\Local\\Temp\\pip-req-build-st1cuhiq'\n"
     ]
    },
    {
     "name": "stdout",
     "output_type": "stream",
     "text": [
      "Requirement already satisfied: numpy in d:\\apphome\\anaconda3\\lib\\site-packages (from -r https://raw.githubusercontent.com/iuts-beb-chargers/2025-CET-593-beb_chargers/main/requirements.txt (line 1)) (1.24.3)\n",
      "Requirement already satisfied: pandas in d:\\apphome\\anaconda3\\lib\\site-packages (from -r https://raw.githubusercontent.com/iuts-beb-chargers/2025-CET-593-beb_chargers/main/requirements.txt (line 2)) (2.0.3)\n",
      "Requirement already satisfied: matplotlib in d:\\apphome\\anaconda3\\lib\\site-packages (from -r https://raw.githubusercontent.com/iuts-beb-chargers/2025-CET-593-beb_chargers/main/requirements.txt (line 3)) (3.7.2)\n",
      "Requirement already satisfied: plotly in d:\\apphome\\anaconda3\\lib\\site-packages (from -r https://raw.githubusercontent.com/iuts-beb-chargers/2025-CET-593-beb_chargers/main/requirements.txt (line 4)) (5.9.0)\n",
      "Requirement already satisfied: kaleido in d:\\apphome\\anaconda3\\lib\\site-packages (from -r https://raw.githubusercontent.com/iuts-beb-chargers/2025-CET-593-beb_chargers/main/requirements.txt (line 5)) (0.2.1)\n",
      "Requirement already satisfied: polyline in d:\\apphome\\anaconda3\\lib\\site-packages (from -r https://raw.githubusercontent.com/iuts-beb-chargers/2025-CET-593-beb_chargers/main/requirements.txt (line 6)) (2.0.2)\n",
      "Requirement already satisfied: streamlit in d:\\apphome\\anaconda3\\lib\\site-packages (from -r https://raw.githubusercontent.com/iuts-beb-chargers/2025-CET-593-beb_chargers/main/requirements.txt (line 7)) (1.24.1)\n",
      "Requirement already satisfied: gurobipy in d:\\apphome\\anaconda3\\lib\\site-packages (from -r https://raw.githubusercontent.com/iuts-beb-chargers/2025-CET-593-beb_chargers/main/requirements.txt (line 8)) (12.0.1)\n",
      "Requirement already satisfied: pyomo in d:\\apphome\\anaconda3\\lib\\site-packages (from -r https://raw.githubusercontent.com/iuts-beb-chargers/2025-CET-593-beb_chargers/main/requirements.txt (line 9)) (6.8.2)\n",
      "Requirement already satisfied: googlemaps in d:\\apphome\\anaconda3\\lib\\site-packages (from -r https://raw.githubusercontent.com/iuts-beb-chargers/2025-CET-593-beb_chargers/main/requirements.txt (line 10)) (4.10.0)\n",
      "Requirement already satisfied: rasterio in d:\\apphome\\anaconda3\\lib\\site-packages (from -r https://raw.githubusercontent.com/iuts-beb-chargers/2025-CET-593-beb_chargers/main/requirements.txt (line 11)) (1.3.10)\n",
      "Requirement already satisfied: openrouteservice in d:\\apphome\\anaconda3\\lib\\site-packages (from -r https://raw.githubusercontent.com/iuts-beb-chargers/2025-CET-593-beb_chargers/main/requirements.txt (line 12)) (2.3.3)\n",
      "Requirement already satisfied: millify in d:\\apphome\\anaconda3\\lib\\site-packages (from -r https://raw.githubusercontent.com/iuts-beb-chargers/2025-CET-593-beb_chargers/main/requirements.txt (line 13)) (0.1.1)\n",
      "Requirement already satisfied: seaborn in d:\\apphome\\anaconda3\\lib\\site-packages (from -r https://raw.githubusercontent.com/iuts-beb-chargers/2025-CET-593-beb_chargers/main/requirements.txt (line 14)) (0.12.2)\n",
      "Requirement already satisfied: scipy in d:\\apphome\\anaconda3\\lib\\site-packages (from -r https://raw.githubusercontent.com/iuts-beb-chargers/2025-CET-593-beb_chargers/main/requirements.txt (line 15)) (1.14.1)\n",
      "Requirement already satisfied: requests in d:\\apphome\\anaconda3\\lib\\site-packages (from -r https://raw.githubusercontent.com/iuts-beb-chargers/2025-CET-593-beb_chargers/main/requirements.txt (line 16)) (2.31.0)\n",
      "Requirement already satisfied: setuptools in d:\\apphome\\anaconda3\\lib\\site-packages (from -r https://raw.githubusercontent.com/iuts-beb-chargers/2025-CET-593-beb_chargers/main/requirements.txt (line 17)) (68.0.0)\n",
      "Requirement already satisfied: bs4 in d:\\apphome\\anaconda3\\lib\\site-packages (from -r https://raw.githubusercontent.com/iuts-beb-chargers/2025-CET-593-beb_chargers/main/requirements.txt (line 18)) (0.0.2)\n",
      "Requirement already satisfied: python-dotenv in d:\\apphome\\anaconda3\\lib\\site-packages (from -r https://raw.githubusercontent.com/iuts-beb-chargers/2025-CET-593-beb_chargers/main/requirements.txt (line 19)) (0.21.0)\n",
      "Requirement already satisfied: nbformat>=4.2.0 in d:\\apphome\\anaconda3\\lib\\site-packages (from -r https://raw.githubusercontent.com/iuts-beb-chargers/2025-CET-593-beb_chargers/main/requirements.txt (line 20)) (5.9.2)\n",
      "Requirement already satisfied: python-dateutil>=2.8.2 in d:\\apphome\\anaconda3\\lib\\site-packages (from pandas->-r https://raw.githubusercontent.com/iuts-beb-chargers/2025-CET-593-beb_chargers/main/requirements.txt (line 2)) (2.8.2)\n",
      "Requirement already satisfied: pytz>=2020.1 in d:\\apphome\\anaconda3\\lib\\site-packages (from pandas->-r https://raw.githubusercontent.com/iuts-beb-chargers/2025-CET-593-beb_chargers/main/requirements.txt (line 2)) (2023.3.post1)\n",
      "Requirement already satisfied: tzdata>=2022.1 in d:\\apphome\\anaconda3\\lib\\site-packages (from pandas->-r https://raw.githubusercontent.com/iuts-beb-chargers/2025-CET-593-beb_chargers/main/requirements.txt (line 2)) (2023.3)\n",
      "Requirement already satisfied: contourpy>=1.0.1 in d:\\apphome\\anaconda3\\lib\\site-packages (from matplotlib->-r https://raw.githubusercontent.com/iuts-beb-chargers/2025-CET-593-beb_chargers/main/requirements.txt (line 3)) (1.0.5)\n",
      "Requirement already satisfied: cycler>=0.10 in d:\\apphome\\anaconda3\\lib\\site-packages (from matplotlib->-r https://raw.githubusercontent.com/iuts-beb-chargers/2025-CET-593-beb_chargers/main/requirements.txt (line 3)) (0.11.0)\n",
      "Requirement already satisfied: fonttools>=4.22.0 in d:\\apphome\\anaconda3\\lib\\site-packages (from matplotlib->-r https://raw.githubusercontent.com/iuts-beb-chargers/2025-CET-593-beb_chargers/main/requirements.txt (line 3)) (4.25.0)\n",
      "Requirement already satisfied: kiwisolver>=1.0.1 in d:\\apphome\\anaconda3\\lib\\site-packages (from matplotlib->-r https://raw.githubusercontent.com/iuts-beb-chargers/2025-CET-593-beb_chargers/main/requirements.txt (line 3)) (1.4.4)\n",
      "Requirement already satisfied: packaging>=20.0 in d:\\apphome\\anaconda3\\lib\\site-packages (from matplotlib->-r https://raw.githubusercontent.com/iuts-beb-chargers/2025-CET-593-beb_chargers/main/requirements.txt (line 3)) (23.1)\n",
      "Requirement already satisfied: pillow>=6.2.0 in d:\\apphome\\anaconda3\\lib\\site-packages (from matplotlib->-r https://raw.githubusercontent.com/iuts-beb-chargers/2025-CET-593-beb_chargers/main/requirements.txt (line 3)) (9.4.0)\n",
      "Requirement already satisfied: pyparsing<3.1,>=2.3.1 in d:\\apphome\\anaconda3\\lib\\site-packages (from matplotlib->-r https://raw.githubusercontent.com/iuts-beb-chargers/2025-CET-593-beb_chargers/main/requirements.txt (line 3)) (3.0.9)\n",
      "Requirement already satisfied: tenacity>=6.2.0 in d:\\apphome\\anaconda3\\lib\\site-packages (from plotly->-r https://raw.githubusercontent.com/iuts-beb-chargers/2025-CET-593-beb_chargers/main/requirements.txt (line 4)) (8.2.2)\n",
      "Requirement already satisfied: altair<6,>=4.0 in d:\\apphome\\anaconda3\\lib\\site-packages (from streamlit->-r https://raw.githubusercontent.com/iuts-beb-chargers/2025-CET-593-beb_chargers/main/requirements.txt (line 7)) (5.0.1)\n",
      "Requirement already satisfied: blinker<2,>=1.0.0 in d:\\apphome\\anaconda3\\lib\\site-packages (from streamlit->-r https://raw.githubusercontent.com/iuts-beb-chargers/2025-CET-593-beb_chargers/main/requirements.txt (line 7)) (1.9.0)\n",
      "Requirement already satisfied: cachetools<6,>=4.0 in d:\\apphome\\anaconda3\\lib\\site-packages (from streamlit->-r https://raw.githubusercontent.com/iuts-beb-chargers/2025-CET-593-beb_chargers/main/requirements.txt (line 7)) (5.5.1)\n",
      "Requirement already satisfied: click<9,>=7.0 in d:\\apphome\\anaconda3\\lib\\site-packages (from streamlit->-r https://raw.githubusercontent.com/iuts-beb-chargers/2025-CET-593-beb_chargers/main/requirements.txt (line 7)) (8.0.4)\n",
      "Requirement already satisfied: importlib-metadata<7,>=1.4 in d:\\apphome\\anaconda3\\lib\\site-packages (from streamlit->-r https://raw.githubusercontent.com/iuts-beb-chargers/2025-CET-593-beb_chargers/main/requirements.txt (line 7)) (6.0.0)\n",
      "Requirement already satisfied: protobuf<5,>=3.20 in d:\\apphome\\anaconda3\\lib\\site-packages (from streamlit->-r https://raw.githubusercontent.com/iuts-beb-chargers/2025-CET-593-beb_chargers/main/requirements.txt (line 7)) (3.20.3)\n",
      "Requirement already satisfied: pyarrow>=4.0 in d:\\apphome\\anaconda3\\lib\\site-packages (from streamlit->-r https://raw.githubusercontent.com/iuts-beb-chargers/2025-CET-593-beb_chargers/main/requirements.txt (line 7)) (11.0.0)\n",
      "Requirement already satisfied: pympler<2,>=0.9 in d:\\apphome\\anaconda3\\lib\\site-packages (from streamlit->-r https://raw.githubusercontent.com/iuts-beb-chargers/2025-CET-593-beb_chargers/main/requirements.txt (line 7)) (0.9)\n",
      "Requirement already satisfied: rich<14,>=10.11.0 in d:\\apphome\\anaconda3\\lib\\site-packages (from streamlit->-r https://raw.githubusercontent.com/iuts-beb-chargers/2025-CET-593-beb_chargers/main/requirements.txt (line 7)) (13.7.1)\n",
      "Requirement already satisfied: toml<2 in d:\\apphome\\anaconda3\\lib\\site-packages (from streamlit->-r https://raw.githubusercontent.com/iuts-beb-chargers/2025-CET-593-beb_chargers/main/requirements.txt (line 7)) (0.10.2)\n",
      "Requirement already satisfied: typing-extensions<5,>=4.0.1 in d:\\apphome\\anaconda3\\lib\\site-packages (from streamlit->-r https://raw.githubusercontent.com/iuts-beb-chargers/2025-CET-593-beb_chargers/main/requirements.txt (line 7)) (4.11.0)\n",
      "Requirement already satisfied: tzlocal<5,>=1.1 in d:\\apphome\\anaconda3\\lib\\site-packages (from streamlit->-r https://raw.githubusercontent.com/iuts-beb-chargers/2025-CET-593-beb_chargers/main/requirements.txt (line 7)) (2.1)\n",
      "Requirement already satisfied: validators<1,>=0.2 in d:\\apphome\\anaconda3\\lib\\site-packages (from streamlit->-r https://raw.githubusercontent.com/iuts-beb-chargers/2025-CET-593-beb_chargers/main/requirements.txt (line 7)) (0.18.2)\n",
      "Requirement already satisfied: gitpython!=3.1.19,<4,>=3 in d:\\apphome\\anaconda3\\lib\\site-packages (from streamlit->-r https://raw.githubusercontent.com/iuts-beb-chargers/2025-CET-593-beb_chargers/main/requirements.txt (line 7)) (3.1.43)\n",
      "Requirement already satisfied: pydeck<1,>=0.1.dev5 in d:\\apphome\\anaconda3\\lib\\site-packages (from streamlit->-r https://raw.githubusercontent.com/iuts-beb-chargers/2025-CET-593-beb_chargers/main/requirements.txt (line 7)) (0.7.1)\n",
      "Requirement already satisfied: tornado<7,>=6.0.3 in d:\\apphome\\anaconda3\\lib\\site-packages (from streamlit->-r https://raw.githubusercontent.com/iuts-beb-chargers/2025-CET-593-beb_chargers/main/requirements.txt (line 7)) (6.3.2)\n",
      "Requirement already satisfied: watchdog in d:\\apphome\\anaconda3\\lib\\site-packages (from streamlit->-r https://raw.githubusercontent.com/iuts-beb-chargers/2025-CET-593-beb_chargers/main/requirements.txt (line 7)) (2.1.6)\n",
      "Requirement already satisfied: ply in d:\\apphome\\anaconda3\\lib\\site-packages (from pyomo->-r https://raw.githubusercontent.com/iuts-beb-chargers/2025-CET-593-beb_chargers/main/requirements.txt (line 9)) (3.11)\n",
      "Requirement already satisfied: affine in d:\\apphome\\anaconda3\\lib\\site-packages (from rasterio->-r https://raw.githubusercontent.com/iuts-beb-chargers/2025-CET-593-beb_chargers/main/requirements.txt (line 11)) (2.3.0)\n",
      "Requirement already satisfied: attrs in d:\\apphome\\anaconda3\\lib\\site-packages (from rasterio->-r https://raw.githubusercontent.com/iuts-beb-chargers/2025-CET-593-beb_chargers/main/requirements.txt (line 11)) (22.1.0)\n",
      "Requirement already satisfied: certifi in d:\\apphome\\anaconda3\\lib\\site-packages (from rasterio->-r https://raw.githubusercontent.com/iuts-beb-chargers/2025-CET-593-beb_chargers/main/requirements.txt (line 11)) (2025.1.31)\n",
      "Requirement already satisfied: cligj>=0.5 in d:\\apphome\\anaconda3\\lib\\site-packages (from rasterio->-r https://raw.githubusercontent.com/iuts-beb-chargers/2025-CET-593-beb_chargers/main/requirements.txt (line 11)) (0.7.2)\n",
      "Requirement already satisfied: snuggs>=1.4.1 in d:\\apphome\\anaconda3\\lib\\site-packages (from rasterio->-r https://raw.githubusercontent.com/iuts-beb-chargers/2025-CET-593-beb_chargers/main/requirements.txt (line 11)) (1.4.7)\n",
      "Requirement already satisfied: click-plugins in d:\\apphome\\anaconda3\\lib\\site-packages (from rasterio->-r https://raw.githubusercontent.com/iuts-beb-chargers/2025-CET-593-beb_chargers/main/requirements.txt (line 11)) (1.1.1)\n",
      "Requirement already satisfied: charset-normalizer<4,>=2 in d:\\apphome\\anaconda3\\lib\\site-packages (from requests->-r https://raw.githubusercontent.com/iuts-beb-chargers/2025-CET-593-beb_chargers/main/requirements.txt (line 16)) (2.0.4)\n",
      "Requirement already satisfied: idna<4,>=2.5 in d:\\apphome\\anaconda3\\lib\\site-packages (from requests->-r https://raw.githubusercontent.com/iuts-beb-chargers/2025-CET-593-beb_chargers/main/requirements.txt (line 16)) (3.4)\n",
      "Requirement already satisfied: urllib3<3,>=1.21.1 in d:\\apphome\\anaconda3\\lib\\site-packages (from requests->-r https://raw.githubusercontent.com/iuts-beb-chargers/2025-CET-593-beb_chargers/main/requirements.txt (line 16)) (1.26.16)\n",
      "Requirement already satisfied: beautifulsoup4 in d:\\apphome\\anaconda3\\lib\\site-packages (from bs4->-r https://raw.githubusercontent.com/iuts-beb-chargers/2025-CET-593-beb_chargers/main/requirements.txt (line 18)) (4.12.3)\n",
      "Requirement already satisfied: fastjsonschema in d:\\apphome\\anaconda3\\lib\\site-packages (from nbformat>=4.2.0->-r https://raw.githubusercontent.com/iuts-beb-chargers/2025-CET-593-beb_chargers/main/requirements.txt (line 20)) (2.16.2)\n",
      "Requirement already satisfied: jsonschema>=2.6 in d:\\apphome\\anaconda3\\lib\\site-packages (from nbformat>=4.2.0->-r https://raw.githubusercontent.com/iuts-beb-chargers/2025-CET-593-beb_chargers/main/requirements.txt (line 20)) (4.17.3)\n",
      "Requirement already satisfied: jupyter-core in d:\\apphome\\anaconda3\\lib\\site-packages (from nbformat>=4.2.0->-r https://raw.githubusercontent.com/iuts-beb-chargers/2025-CET-593-beb_chargers/main/requirements.txt (line 20)) (5.3.0)\n",
      "Requirement already satisfied: traitlets>=5.1 in d:\\apphome\\anaconda3\\lib\\site-packages (from nbformat>=4.2.0->-r https://raw.githubusercontent.com/iuts-beb-chargers/2025-CET-593-beb_chargers/main/requirements.txt (line 20)) (5.7.1)\n",
      "Requirement already satisfied: jinja2 in d:\\apphome\\anaconda3\\lib\\site-packages (from altair<6,>=4.0->streamlit->-r https://raw.githubusercontent.com/iuts-beb-chargers/2025-CET-593-beb_chargers/main/requirements.txt (line 7)) (3.1.2)\n",
      "Requirement already satisfied: toolz in d:\\apphome\\anaconda3\\lib\\site-packages (from altair<6,>=4.0->streamlit->-r https://raw.githubusercontent.com/iuts-beb-chargers/2025-CET-593-beb_chargers/main/requirements.txt (line 7)) (0.12.0)\n",
      "Requirement already satisfied: colorama in d:\\apphome\\anaconda3\\lib\\site-packages (from click<9,>=7.0->streamlit->-r https://raw.githubusercontent.com/iuts-beb-chargers/2025-CET-593-beb_chargers/main/requirements.txt (line 7)) (0.4.6)\n",
      "Requirement already satisfied: gitdb<5,>=4.0.1 in d:\\apphome\\anaconda3\\lib\\site-packages (from gitpython!=3.1.19,<4,>=3->streamlit->-r https://raw.githubusercontent.com/iuts-beb-chargers/2025-CET-593-beb_chargers/main/requirements.txt (line 7)) (4.0.7)\n",
      "Requirement already satisfied: zipp>=0.5 in d:\\apphome\\anaconda3\\lib\\site-packages (from importlib-metadata<7,>=1.4->streamlit->-r https://raw.githubusercontent.com/iuts-beb-chargers/2025-CET-593-beb_chargers/main/requirements.txt (line 7)) (3.11.0)\n",
      "Requirement already satisfied: pyrsistent!=0.17.0,!=0.17.1,!=0.17.2,>=0.14.0 in d:\\apphome\\anaconda3\\lib\\site-packages (from jsonschema>=2.6->nbformat>=4.2.0->-r https://raw.githubusercontent.com/iuts-beb-chargers/2025-CET-593-beb_chargers/main/requirements.txt (line 20)) (0.18.0)\n",
      "Requirement already satisfied: ipywidgets>=7.0.0 in d:\\apphome\\anaconda3\\lib\\site-packages (from pydeck<1,>=0.1.dev5->streamlit->-r https://raw.githubusercontent.com/iuts-beb-chargers/2025-CET-593-beb_chargers/main/requirements.txt (line 7)) (8.0.4)\n",
      "Requirement already satisfied: ipykernel>=5.1.2 in d:\\apphome\\anaconda3\\lib\\site-packages (from pydeck<1,>=0.1.dev5->streamlit->-r https://raw.githubusercontent.com/iuts-beb-chargers/2025-CET-593-beb_chargers/main/requirements.txt (line 7)) (6.25.0)\n",
      "Requirement already satisfied: six>=1.5 in d:\\apphome\\anaconda3\\lib\\site-packages (from python-dateutil>=2.8.2->pandas->-r https://raw.githubusercontent.com/iuts-beb-chargers/2025-CET-593-beb_chargers/main/requirements.txt (line 2)) (1.16.0)\n",
      "Requirement already satisfied: markdown-it-py>=2.2.0 in d:\\apphome\\anaconda3\\lib\\site-packages (from rich<14,>=10.11.0->streamlit->-r https://raw.githubusercontent.com/iuts-beb-chargers/2025-CET-593-beb_chargers/main/requirements.txt (line 7)) (2.2.0)\n",
      "Requirement already satisfied: pygments<3.0.0,>=2.13.0 in d:\\apphome\\anaconda3\\lib\\site-packages (from rich<14,>=10.11.0->streamlit->-r https://raw.githubusercontent.com/iuts-beb-chargers/2025-CET-593-beb_chargers/main/requirements.txt (line 7)) (2.15.1)\n",
      "Requirement already satisfied: decorator>=3.4.0 in d:\\apphome\\anaconda3\\lib\\site-packages (from validators<1,>=0.2->streamlit->-r https://raw.githubusercontent.com/iuts-beb-chargers/2025-CET-593-beb_chargers/main/requirements.txt (line 7)) (5.1.1)\n",
      "Requirement already satisfied: soupsieve>1.2 in d:\\apphome\\anaconda3\\lib\\site-packages (from beautifulsoup4->bs4->-r https://raw.githubusercontent.com/iuts-beb-chargers/2025-CET-593-beb_chargers/main/requirements.txt (line 18)) (2.4)\n",
      "Requirement already satisfied: platformdirs>=2.5 in d:\\apphome\\anaconda3\\lib\\site-packages (from jupyter-core->nbformat>=4.2.0->-r https://raw.githubusercontent.com/iuts-beb-chargers/2025-CET-593-beb_chargers/main/requirements.txt (line 20)) (3.10.0)\n",
      "Requirement already satisfied: pywin32>=300 in d:\\apphome\\anaconda3\\lib\\site-packages (from jupyter-core->nbformat>=4.2.0->-r https://raw.githubusercontent.com/iuts-beb-chargers/2025-CET-593-beb_chargers/main/requirements.txt (line 20)) (305.1)\n",
      "Requirement already satisfied: smmap<5,>=3.0.1 in d:\\apphome\\anaconda3\\lib\\site-packages (from gitdb<5,>=4.0.1->gitpython!=3.1.19,<4,>=3->streamlit->-r https://raw.githubusercontent.com/iuts-beb-chargers/2025-CET-593-beb_chargers/main/requirements.txt (line 7)) (4.0.0)\n",
      "Requirement already satisfied: comm>=0.1.1 in d:\\apphome\\anaconda3\\lib\\site-packages (from ipykernel>=5.1.2->pydeck<1,>=0.1.dev5->streamlit->-r https://raw.githubusercontent.com/iuts-beb-chargers/2025-CET-593-beb_chargers/main/requirements.txt (line 7)) (0.1.2)\n",
      "Requirement already satisfied: debugpy>=1.6.5 in d:\\apphome\\anaconda3\\lib\\site-packages (from ipykernel>=5.1.2->pydeck<1,>=0.1.dev5->streamlit->-r https://raw.githubusercontent.com/iuts-beb-chargers/2025-CET-593-beb_chargers/main/requirements.txt (line 7)) (1.6.7)\n",
      "Requirement already satisfied: ipython>=7.23.1 in d:\\apphome\\anaconda3\\lib\\site-packages (from ipykernel>=5.1.2->pydeck<1,>=0.1.dev5->streamlit->-r https://raw.githubusercontent.com/iuts-beb-chargers/2025-CET-593-beb_chargers/main/requirements.txt (line 7)) (8.15.0)\n",
      "Requirement already satisfied: jupyter-client>=6.1.12 in d:\\apphome\\anaconda3\\lib\\site-packages (from ipykernel>=5.1.2->pydeck<1,>=0.1.dev5->streamlit->-r https://raw.githubusercontent.com/iuts-beb-chargers/2025-CET-593-beb_chargers/main/requirements.txt (line 7)) (7.4.9)\n",
      "Requirement already satisfied: matplotlib-inline>=0.1 in d:\\apphome\\anaconda3\\lib\\site-packages (from ipykernel>=5.1.2->pydeck<1,>=0.1.dev5->streamlit->-r https://raw.githubusercontent.com/iuts-beb-chargers/2025-CET-593-beb_chargers/main/requirements.txt (line 7)) (0.1.6)\n",
      "Requirement already satisfied: nest-asyncio in d:\\apphome\\anaconda3\\lib\\site-packages (from ipykernel>=5.1.2->pydeck<1,>=0.1.dev5->streamlit->-r https://raw.githubusercontent.com/iuts-beb-chargers/2025-CET-593-beb_chargers/main/requirements.txt (line 7)) (1.5.6)\n",
      "Requirement already satisfied: psutil in d:\\apphome\\anaconda3\\lib\\site-packages (from ipykernel>=5.1.2->pydeck<1,>=0.1.dev5->streamlit->-r https://raw.githubusercontent.com/iuts-beb-chargers/2025-CET-593-beb_chargers/main/requirements.txt (line 7)) (5.9.0)\n",
      "Requirement already satisfied: pyzmq>=20 in d:\\apphome\\anaconda3\\lib\\site-packages (from ipykernel>=5.1.2->pydeck<1,>=0.1.dev5->streamlit->-r https://raw.githubusercontent.com/iuts-beb-chargers/2025-CET-593-beb_chargers/main/requirements.txt (line 7)) (23.2.0)\n",
      "Requirement already satisfied: widgetsnbextension~=4.0 in d:\\apphome\\anaconda3\\lib\\site-packages (from ipywidgets>=7.0.0->pydeck<1,>=0.1.dev5->streamlit->-r https://raw.githubusercontent.com/iuts-beb-chargers/2025-CET-593-beb_chargers/main/requirements.txt (line 7)) (4.0.5)\n",
      "Requirement already satisfied: jupyterlab-widgets~=3.0 in d:\\apphome\\anaconda3\\lib\\site-packages (from ipywidgets>=7.0.0->pydeck<1,>=0.1.dev5->streamlit->-r https://raw.githubusercontent.com/iuts-beb-chargers/2025-CET-593-beb_chargers/main/requirements.txt (line 7)) (3.0.5)\n",
      "Requirement already satisfied: MarkupSafe>=2.0 in d:\\apphome\\anaconda3\\lib\\site-packages (from jinja2->altair<6,>=4.0->streamlit->-r https://raw.githubusercontent.com/iuts-beb-chargers/2025-CET-593-beb_chargers/main/requirements.txt (line 7)) (2.1.1)\n",
      "Requirement already satisfied: mdurl~=0.1 in d:\\apphome\\anaconda3\\lib\\site-packages (from markdown-it-py>=2.2.0->rich<14,>=10.11.0->streamlit->-r https://raw.githubusercontent.com/iuts-beb-chargers/2025-CET-593-beb_chargers/main/requirements.txt (line 7)) (0.1.0)\n",
      "Requirement already satisfied: backcall in d:\\apphome\\anaconda3\\lib\\site-packages (from ipython>=7.23.1->ipykernel>=5.1.2->pydeck<1,>=0.1.dev5->streamlit->-r https://raw.githubusercontent.com/iuts-beb-chargers/2025-CET-593-beb_chargers/main/requirements.txt (line 7)) (0.2.0)\n",
      "Requirement already satisfied: jedi>=0.16 in d:\\apphome\\anaconda3\\lib\\site-packages (from ipython>=7.23.1->ipykernel>=5.1.2->pydeck<1,>=0.1.dev5->streamlit->-r https://raw.githubusercontent.com/iuts-beb-chargers/2025-CET-593-beb_chargers/main/requirements.txt (line 7)) (0.18.1)\n",
      "Requirement already satisfied: pickleshare in d:\\apphome\\anaconda3\\lib\\site-packages (from ipython>=7.23.1->ipykernel>=5.1.2->pydeck<1,>=0.1.dev5->streamlit->-r https://raw.githubusercontent.com/iuts-beb-chargers/2025-CET-593-beb_chargers/main/requirements.txt (line 7)) (0.7.5)\n",
      "Requirement already satisfied: prompt-toolkit!=3.0.37,<3.1.0,>=3.0.30 in d:\\apphome\\anaconda3\\lib\\site-packages (from ipython>=7.23.1->ipykernel>=5.1.2->pydeck<1,>=0.1.dev5->streamlit->-r https://raw.githubusercontent.com/iuts-beb-chargers/2025-CET-593-beb_chargers/main/requirements.txt (line 7)) (3.0.36)\n",
      "Requirement already satisfied: stack-data in d:\\apphome\\anaconda3\\lib\\site-packages (from ipython>=7.23.1->ipykernel>=5.1.2->pydeck<1,>=0.1.dev5->streamlit->-r https://raw.githubusercontent.com/iuts-beb-chargers/2025-CET-593-beb_chargers/main/requirements.txt (line 7)) (0.2.0)\n",
      "Requirement already satisfied: entrypoints in d:\\apphome\\anaconda3\\lib\\site-packages (from jupyter-client>=6.1.12->ipykernel>=5.1.2->pydeck<1,>=0.1.dev5->streamlit->-r https://raw.githubusercontent.com/iuts-beb-chargers/2025-CET-593-beb_chargers/main/requirements.txt (line 7)) (0.4)\n",
      "Requirement already satisfied: parso<0.9.0,>=0.8.0 in d:\\apphome\\anaconda3\\lib\\site-packages (from jedi>=0.16->ipython>=7.23.1->ipykernel>=5.1.2->pydeck<1,>=0.1.dev5->streamlit->-r https://raw.githubusercontent.com/iuts-beb-chargers/2025-CET-593-beb_chargers/main/requirements.txt (line 7)) (0.8.3)\n",
      "Requirement already satisfied: wcwidth in d:\\apphome\\anaconda3\\lib\\site-packages (from prompt-toolkit!=3.0.37,<3.1.0,>=3.0.30->ipython>=7.23.1->ipykernel>=5.1.2->pydeck<1,>=0.1.dev5->streamlit->-r https://raw.githubusercontent.com/iuts-beb-chargers/2025-CET-593-beb_chargers/main/requirements.txt (line 7)) (0.2.5)\n",
      "Requirement already satisfied: executing in d:\\apphome\\anaconda3\\lib\\site-packages (from stack-data->ipython>=7.23.1->ipykernel>=5.1.2->pydeck<1,>=0.1.dev5->streamlit->-r https://raw.githubusercontent.com/iuts-beb-chargers/2025-CET-593-beb_chargers/main/requirements.txt (line 7)) (0.8.3)\n",
      "Requirement already satisfied: asttokens in d:\\apphome\\anaconda3\\lib\\site-packages (from stack-data->ipython>=7.23.1->ipykernel>=5.1.2->pydeck<1,>=0.1.dev5->streamlit->-r https://raw.githubusercontent.com/iuts-beb-chargers/2025-CET-593-beb_chargers/main/requirements.txt (line 7)) (2.0.5)\n",
      "Requirement already satisfied: pure-eval in d:\\apphome\\anaconda3\\lib\\site-packages (from stack-data->ipython>=7.23.1->ipykernel>=5.1.2->pydeck<1,>=0.1.dev5->streamlit->-r https://raw.githubusercontent.com/iuts-beb-chargers/2025-CET-593-beb_chargers/main/requirements.txt (line 7)) (0.2.2)\n",
      "Note: you may need to restart the kernel to use updated packages.\n"
     ]
    }
   ],
   "execution_count": 1
  },
  {
   "metadata": {
    "ExecuteTime": {
     "end_time": "2025-02-24T00:10:59.952897Z",
     "start_time": "2025-02-24T00:10:57.974865Z"
    }
   },
   "cell_type": "code",
   "source": [
    "from beb_chargers.scripts.script_helpers import build_trips_df, \\\n",
    "    build_charger_location_inputs\n",
    "from beb_chargers.opt.charger_location import ChargerLocationModel\n",
    "from beb_chargers.gtfs_beb import GTFSData\n",
    "from beb_chargers.vis import plot_trips_and_terminals, plot_deadhead\n",
    "from pathlib import Path\n",
    "import datetime\n",
    "import pandas as pd\n",
    "import logging\n",
    "logging.basicConfig(level=logging.INFO)"
   ],
   "id": "4e1e539fd0eb403b",
   "outputs": [],
   "execution_count": 2
  },
  {
   "metadata": {
    "ExecuteTime": {
     "end_time": "2025-02-24T00:11:00.004361Z",
     "start_time": "2025-02-24T00:11:00.001266Z"
    }
   },
   "cell_type": "code",
   "source": [
    "# Locate CSV file giving candidate charger sites for this instance\n",
    "site_fname = r\"E:/UW-Seattle/UW/25WI/CET 593/Project1/data/chargers/chargers_nyc.xlsx\"\n",
    "\n",
    "# Directory to GTFS files, as a platform-agnostic path\n",
    "gtfs_dir = r\"E:/UW-Seattle/UW/25WI/CET 593/Project1/data/GTFS\"\n",
    "# Directory to osm files\n",
    "osm = (r\"E:/UW-Seattle/UW/25WI/CET 593/Project1/osm_charge_data.pickle\")"
   ],
   "id": "d32001a0857db694",
   "outputs": [],
   "execution_count": 3
  },
  {
   "metadata": {
    "ExecuteTime": {
     "end_time": "2025-02-24T00:11:00.156563Z",
     "start_time": "2025-02-24T00:11:00.009752Z"
    }
   },
   "cell_type": "code",
   "source": [
    "# Power output of each charger. Note that the model expects a unit of\n",
    "# kilowatt-hours per minute, so that the amount of energy gained equals\n",
    "# charging time (in minutes) multiplied by power (in kWh/min). Here, we\n",
    "chg_pwrs = 450 / 60\n",
    "\n",
    "# Maximum number of chargers per site. We'll set it to 4 everywhere\n",
    "n_max = 4\n",
    "\n",
    "# Cost parameters. See TRC paper for where the values come from.\n",
    "s_cost = 500000\n",
    "c_cost = 700000\n",
    "alpha = 190 * 365 * 12 / 60\n",
    "\n",
    "# Load candidate charging sites given by Metro and add params as columns\n",
    "loc_df = pd.read_excel(site_fname)\n",
    "loc_df['max_chargers'] = n_max\n",
    "loc_df['kw'] = chg_pwrs * 60\n",
    "loc_df['fixed_cost'] = s_cost\n",
    "loc_df['charger_cost'] = c_cost\n",
    "\n",
    "# Define coordinates of overnight depot at South Base\n",
    "depot_coords = (40.76050360027786, -73.99942123020429)"
   ],
   "id": "432af13ada097ad9",
   "outputs": [],
   "execution_count": 4
  },
  {
   "metadata": {
    "ExecuteTime": {
     "end_time": "2025-02-24T00:11:00.860538Z",
     "start_time": "2025-02-24T00:11:00.164678Z"
    }
   },
   "cell_type": "code",
   "source": [
    "# Load GTFS data into our custom object\n",
    "gtfs = GTFSData.from_dir(gtfs_dir)"
   ],
   "id": "322b2574617b4289",
   "outputs": [],
   "execution_count": 5
  },
  {
   "metadata": {
    "ExecuteTime": {
     "end_time": "2025-02-24T00:11:00.870270Z",
     "start_time": "2025-02-24T00:11:00.867881Z"
    }
   },
   "cell_type": "code",
   "source": [
    "# Battery capacity in kWh\n",
    "battery_cap = 300\n",
    "# Energy consumption per mile for all buses (we'll assume it's the same\n",
    "# for all buses here)\n",
    "kwh_per_mi = 3"
   ],
   "id": "5c0e8cd72466d47f",
   "outputs": [],
   "execution_count": 6
  },
  {
   "metadata": {
    "ExecuteTime": {
     "end_time": "2025-02-24T00:11:00.882647Z",
     "start_time": "2025-02-24T00:11:00.879827Z"
    }
   },
   "cell_type": "code",
   "source": [
    "# We'll run analysis for March 28, 2024\n",
    "ocl_date = datetime.datetime(2024, 3, 28)"
   ],
   "id": "ef73959624e54841",
   "outputs": [],
   "execution_count": 7
  },
  {
   "metadata": {
    "ExecuteTime": {
     "end_time": "2025-02-24T00:11:00.897984Z",
     "start_time": "2025-02-24T00:11:00.891563Z"
    }
   },
   "cell_type": "code",
   "source": [
    "import csv\n",
    "import random\n",
    "\n",
    "def read_routes_file(filename):\n",
    "    \"\"\"\n",
    "    read routes file and return route_ids list\n",
    "    Args:\n",
    "        filename: CSV path\n",
    "    Returns:\n",
    "        route_ids list\n",
    "    \"\"\"\n",
    "    route_ids = []\n",
    "    with open(filename, 'r', encoding='utf-8') as f:\n",
    "        reader = csv.DictReader(f)\n",
    "        for row in reader:\n",
    "            route_ids.append(row['route_id'])\n",
    "    return route_ids\n",
    "\n",
    "def random_select_routes(route_ids, percentage=0.1):\n",
    "    \"\"\"\n",
    "    Args:\n",
    "        route_ids: all routes ID\n",
    "        percentage\n",
    "    Returns:\n",
    "        selected routes ID\n",
    "    \"\"\"\n",
    "    num_to_select = round(len(route_ids) * percentage)\n",
    "    available_routes = route_ids.copy()\n",
    "    selected_routes = []\n",
    "    \n",
    "    # 随机选择路线\n",
    "    for _ in range(num_to_select):\n",
    "        if not available_routes:\n",
    "            break\n",
    "        # 随机选择一个索引\n",
    "        idx = random.randrange(len(available_routes))\n",
    "        # 添加选中的路线ID并从可选列表中移除\n",
    "        selected_routes.append(available_routes.pop(idx))\n",
    "    \n",
    "    return selected_routes\n",
    "\n",
    "def main():\n",
    "    filename = 'routes.txt'\n",
    "    num_iterations = 10\n",
    "    \n",
    "    route_ids = read_routes_file(filename)\n",
    "    print(f\"Total number of routes: {len(route_ids)}\")\n",
    "    \n",
    "    all_results = []\n",
    "    \n",
    "    for i in range(num_iterations):\n",
    "        selected = random_select_routes(route_ids)\n",
    "        all_results.append(selected)\n",
    "        print(f\"\\nIteration {i+1}:\")\n",
    "        print(f\"Selected {len(selected)} routes: {selected}\")\n",
    "    \n",
    "    return all_results\n",
    "\n",
    "if __name__ == \"__main__\":\n",
    "    random.seed(42)\n",
    "    \n",
    "    # 运行主程序\n",
    "    results = main()\n",
    "    \n",
    "    print(\"\\nFinal 2D array of selected route_ids:\")\n",
    "    for i, row in enumerate(results):\n",
    "        print(f\"Row {i+1}: {row}\")"
   ],
   "id": "928aa8bb7d227d3f",
   "outputs": [
    {
     "name": "stdout",
     "output_type": "stream",
     "text": [
      "Total number of routes: 314\n",
      "\n",
      "Iteration 1:\n",
      "Selected 31 routes: ['B92', 'B26', 'M14A+', 'M7', 'FBAS', 'BX15', 'B84', 'Q107', 'B69', 'B106', 'SIM23', 'B36', 'B35', 'B82+', 'KBAS', 'M10', 'X68', 'B31', 'B99', 'GHAS', 'S96B1', 'SIM32', 'M3', 'S59', 'M60+', 'B13', 'BX31', 'S44', 'Q55', 'M79+', 'BX29']\n",
      "\n",
      "Iteration 2:\n",
      "Selected 31 routes: ['GHAS', 'Q15', 'B83', 'B70', 'Q77', 'B82', 'Q43', 'Q27', 'M12', 'B41', 'S56', 'Q95', 'BX1', 'Q88', 'B64', 'S96B1', 'M60+', 'Q76', 'B111', 'BX99', 'B6', 'B43', 'M5', 'M79+', 'B68', 'M100', 'BX4', 'SIM8', 'M57', 'S89', 'SIM3C']\n",
      "\n",
      "Iteration 3:\n",
      "Selected 31 routes: ['BX22', 'Q46', 'Q28', 'SIR5', 'M116', 'B6', 'BX29', 'M90', 'M9', 'BX25', 'S56', 'Q85', 'M15+', 'S96B2', 'GAAS', 'Q16', 'B46', 'M3', 'B35', 'Q15', 'SIM15', 'M23+', 'B57', 'FBAS', 'Q20B', 'JGAS', 'L90', 'SIM24', 'S90', 'BX18B', 'M34A+']\n",
      "\n",
      "Iteration 4:\n",
      "Selected 31 routes: ['BX12+', 'M7', 'B98', 'D90', 'M106', 'B99', 'SIM15', 'B101', 'SIM1C', 'Q43', 'OFAS', 'BX12', 'X37', 'S91', 'B7', 'B43', 'BX3', 'BX22', 'BX27', 'SIM31', 'B52', 'SIM3C', 'SIM2', 'S84', 'L1227', 'M12', 'Q121', 'B15', 'BX6+', 'L91', 'M31']\n",
      "\n",
      "Iteration 5:\n",
      "Selected 31 routes: ['Q15A', 'B92', 'M34+', 'SIM24', 'BX20', 'S44', 'B11', 'M11', 'S96', 'BX34', 'X38', 'B91', 'M66', 'X68', 'SHGRD', 'BX21', 'Q84', 'BX27', 'L0202', 'B98', 'B1', 'Q20B', 'X37', 'B25', 'BX6', 'Q83', 'Q12', 'M102', 'B49', 'M106', 'B68']\n",
      "\n",
      "Iteration 6:\n",
      "Selected 31 routes: ['B67', 'S62', 'B57', 'J90', 'BX9', 'BX10', 'S59', 'B96', 'BX28', 'M125', 'L90', 'SIM15', 'OFAS', 'B98', 'SHNRD', 'Q2', 'SIM4C', 'Q82', 'S42', 'Q90', 'S55', 'BX6+', 'M103', 'M2', 'B49', 'Q36', 'B24', 'Q109', 'M8', 'M1', 'B13']\n",
      "\n",
      "Iteration 7:\n",
      "Selected 31 routes: ['B6', 'B47', 'CSAS', 'B57', 'B35', 'Q15A', 'B63', 'X63', 'M7', 'M23+', 'S86', 'OHAS', 'B96', 'BX13', 'BX92', 'Q109', 'S78', 'M102', 'S81', 'SIM10', 'BX46', 'B84', 'B91', 'S42', 'Q59', 'SIM34', 'SIM26', 'S93', 'B46', 'BX3', 'B54']\n",
      "\n",
      "Iteration 8:\n",
      "Selected 31 routes: ['SIM1', 'Q15', 'B91', 'M8', 'BX40', 'BX39', 'M90', 'S40', 'BX13', 'SIM22', 'BX35', 'M22', 'S59', 'M102', 'B61', 'S48', 'S96B1', 'B82+', 'B44', 'L0202', 'B17', 'B82', 'M101', 'BX32', 'SIM25', 'X63', 'X37', 'KBAS', 'SIM23', 'B49', 'BX33']\n",
      "\n",
      "Iteration 9:\n",
      "Selected 31 routes: ['Q56', 'B11', 'Q83', 'M106', 'S42', 'M22', 'SIM11', 'JBLAF', 'S84', 'BX2', 'BX40', 'M55', 'OHAS', 'B47', 'Q109', 'Q96', 'B52', 'Q4', 'B48', 'B44+', 'S92', 'J90', 'L1227', 'BX26', 'B54', 'Q90', 'B70', 'EBUS', 'B64', 'B63', 'M103']\n",
      "\n",
      "Iteration 10:\n",
      "Selected 31 routes: ['SIM1', 'BX5', 'L0719', 'M7', 'L91', 'Q121', 'B39', 'B65', 'SIM9', 'BX92', 'M191', 'D99', 'M99', 'M11', 'SHNRD', 'Q2', 'M5', 'M14A+', 'SIM4C', 'BX12', 'M86+', 'S62', 'Q15', 'B61', 'B14', 'S78', 'B91', 'B63', 'BX90', 'JGAS', 'Q93']\n",
      "\n",
      "Final 2D array of selected route_ids:\n",
      "Row 1: ['B92', 'B26', 'M14A+', 'M7', 'FBAS', 'BX15', 'B84', 'Q107', 'B69', 'B106', 'SIM23', 'B36', 'B35', 'B82+', 'KBAS', 'M10', 'X68', 'B31', 'B99', 'GHAS', 'S96B1', 'SIM32', 'M3', 'S59', 'M60+', 'B13', 'BX31', 'S44', 'Q55', 'M79+', 'BX29']\n",
      "Row 2: ['GHAS', 'Q15', 'B83', 'B70', 'Q77', 'B82', 'Q43', 'Q27', 'M12', 'B41', 'S56', 'Q95', 'BX1', 'Q88', 'B64', 'S96B1', 'M60+', 'Q76', 'B111', 'BX99', 'B6', 'B43', 'M5', 'M79+', 'B68', 'M100', 'BX4', 'SIM8', 'M57', 'S89', 'SIM3C']\n",
      "Row 3: ['BX22', 'Q46', 'Q28', 'SIR5', 'M116', 'B6', 'BX29', 'M90', 'M9', 'BX25', 'S56', 'Q85', 'M15+', 'S96B2', 'GAAS', 'Q16', 'B46', 'M3', 'B35', 'Q15', 'SIM15', 'M23+', 'B57', 'FBAS', 'Q20B', 'JGAS', 'L90', 'SIM24', 'S90', 'BX18B', 'M34A+']\n",
      "Row 4: ['BX12+', 'M7', 'B98', 'D90', 'M106', 'B99', 'SIM15', 'B101', 'SIM1C', 'Q43', 'OFAS', 'BX12', 'X37', 'S91', 'B7', 'B43', 'BX3', 'BX22', 'BX27', 'SIM31', 'B52', 'SIM3C', 'SIM2', 'S84', 'L1227', 'M12', 'Q121', 'B15', 'BX6+', 'L91', 'M31']\n",
      "Row 5: ['Q15A', 'B92', 'M34+', 'SIM24', 'BX20', 'S44', 'B11', 'M11', 'S96', 'BX34', 'X38', 'B91', 'M66', 'X68', 'SHGRD', 'BX21', 'Q84', 'BX27', 'L0202', 'B98', 'B1', 'Q20B', 'X37', 'B25', 'BX6', 'Q83', 'Q12', 'M102', 'B49', 'M106', 'B68']\n",
      "Row 6: ['B67', 'S62', 'B57', 'J90', 'BX9', 'BX10', 'S59', 'B96', 'BX28', 'M125', 'L90', 'SIM15', 'OFAS', 'B98', 'SHNRD', 'Q2', 'SIM4C', 'Q82', 'S42', 'Q90', 'S55', 'BX6+', 'M103', 'M2', 'B49', 'Q36', 'B24', 'Q109', 'M8', 'M1', 'B13']\n",
      "Row 7: ['B6', 'B47', 'CSAS', 'B57', 'B35', 'Q15A', 'B63', 'X63', 'M7', 'M23+', 'S86', 'OHAS', 'B96', 'BX13', 'BX92', 'Q109', 'S78', 'M102', 'S81', 'SIM10', 'BX46', 'B84', 'B91', 'S42', 'Q59', 'SIM34', 'SIM26', 'S93', 'B46', 'BX3', 'B54']\n",
      "Row 8: ['SIM1', 'Q15', 'B91', 'M8', 'BX40', 'BX39', 'M90', 'S40', 'BX13', 'SIM22', 'BX35', 'M22', 'S59', 'M102', 'B61', 'S48', 'S96B1', 'B82+', 'B44', 'L0202', 'B17', 'B82', 'M101', 'BX32', 'SIM25', 'X63', 'X37', 'KBAS', 'SIM23', 'B49', 'BX33']\n",
      "Row 9: ['Q56', 'B11', 'Q83', 'M106', 'S42', 'M22', 'SIM11', 'JBLAF', 'S84', 'BX2', 'BX40', 'M55', 'OHAS', 'B47', 'Q109', 'Q96', 'B52', 'Q4', 'B48', 'B44+', 'S92', 'J90', 'L1227', 'BX26', 'B54', 'Q90', 'B70', 'EBUS', 'B64', 'B63', 'M103']\n",
      "Row 10: ['SIM1', 'BX5', 'L0719', 'M7', 'L91', 'Q121', 'B39', 'B65', 'SIM9', 'BX92', 'M191', 'D99', 'M99', 'M11', 'SHNRD', 'Q2', 'M5', 'M14A+', 'SIM4C', 'BX12', 'M86+', 'S62', 'Q15', 'B61', 'B14', 'S78', 'B91', 'B63', 'BX90', 'JGAS', 'Q93']\n"
     ]
    }
   ],
   "execution_count": 8
  },
  {
   "metadata": {
    "ExecuteTime": {
     "end_time": "2025-02-24T00:11:00.908825Z",
     "start_time": "2025-02-24T00:11:00.905901Z"
    }
   },
   "cell_type": "code",
   "source": [
    "all_beb_routes = []\n",
    "\n",
    "for group_routes in results:\n",
    "    # Convert each route ID in the current group to string\n",
    "    beb_routes = [str(route) for route in group_routes]\n",
    "    all_beb_routes.append(beb_routes)"
   ],
   "id": "2d66b05965166ab9",
   "outputs": [],
   "execution_count": 9
  },
  {
   "metadata": {
    "jupyter": {
     "is_executing": true
    },
    "ExecuteTime": {
     "start_time": "2025-02-24T00:11:00.920997Z"
    }
   },
   "cell_type": "code",
   "source": [
    "import datetime\n",
    "import multiprocessing\n",
    "import logging\n",
    "import os\n",
    "\n",
    "# 统一日期（所有数据都使用 2024-03-28）\n",
    "ocl_date = datetime.datetime(2024, 3, 28)\n",
    "\n",
    "# `all_beb_routes` 是存储 10 组 BEB 线路的列表，每个元素是一组线路\n",
    "# all_beb_routes = [...]  # 你的 BEB 线路数据\n",
    "\n",
    "osm_fnames = [osm for _ in range(10)]  # 每组数据对应的 OSM 文件\n",
    "battery_caps = [battery_cap for _ in range(10)]  # 电池容量保持一致\n",
    "\n",
    "# 指定存储路径（确保该目录存在）\n",
    "output_dir = \"E:/UW-Seattle/UW/25WI/CET 593/Project1/\"  # 修改为你的实际路径\n",
    "os.makedirs(output_dir, exist_ok=True)  # 如果目录不存在，则创建\n",
    "\n",
    "def process_data(beb_routes, osm_fname, battery_cap, index):\n",
    "    \"\"\"\n",
    "    并行计算单组数据的充电站优化结果（日期固定为 2024-03-28）\n",
    "    并将结果保存到 txt 文件\n",
    "    \"\"\"\n",
    "    # 生成 BEB 线路数据\n",
    "    beb_trips = build_trips_df(\n",
    "        gtfs=gtfs, date=ocl_date, routes=beb_routes, \n",
    "        depot_coords=depot_coords, add_depot_dh=True, \n",
    "        add_kwh_per_mi=False, add_durations=False, \n",
    "        routes_60=[], osm_fname=osm_fname\n",
    "    )\n",
    "    \n",
    "    # 计算能耗\n",
    "    beb_trips['kwh_per_mi'] = kwh_per_mi\n",
    "\n",
    "    # 记录该天 BEB 运行情况\n",
    "    logging.info('{}: There are {} total trips to be served by {} BEB blocks.'.format(\n",
    "        ocl_date.strftime('%m/%d/%y'), len(beb_trips), beb_trips['block_id'].nunique()\n",
    "    ))\n",
    "\n",
    "    # 构建优化输入\n",
    "    opt_kwargs = build_charger_location_inputs(\n",
    "        gtfs=gtfs, trips_df=beb_trips, chargers_df=loc_df, \n",
    "        depot_coords=depot_coords, battery_cap=battery_cap, osm_fname=osm_fname\n",
    "    )\n",
    "\n",
    "    # 运行充电站优化模型\n",
    "    clm = ChargerLocationModel(**opt_kwargs)\n",
    "    clm.solve(alpha=alpha, opt_gap=0, bu_kwh=battery_cap, jupyter_case=osm_fname)\n",
    "\n",
    "    # 记录优化结果\n",
    "    clm.log_results()\n",
    "\n",
    "    # 获取优化结果 DataFrame\n",
    "    result_df = clm.to_df()\n",
    "\n",
    "    # 保存结果到 txt 文件\n",
    "    output_file = os.path.join(output_dir, f\"result_group_{index+1}.txt\")\n",
    "    with open(output_file, \"w\") as f:\n",
    "        f.write(result_df.to_string(index=False))  # 保存为可读格式，不含索引\n",
    "\n",
    "    return result_df\n",
    "\n",
    "# 使用 multiprocessing 进行并行计算，并保存结果到不同的 txt 文件\n",
    "if __name__ == '__main__':\n",
    "    # 使用 multiprocessing 并行计算，每组数据对应不同的 BEB 线路\n",
    "    with multiprocessing.Pool(processes=10) as pool:\n",
    "        results = pool.starmap(process_data, zip(all_beb_routes, osm_fnames, battery_caps, range(10)))\n",
    "\n",
    "    # 打印每组数据的前 5 行结果\n",
    "    for i, df in enumerate(results):\n",
    "        print(f\"Dataset {i+1} results (saved in result_group_{i+1}.txt):\")\n",
    "        display(df.head(5))"
   ],
   "id": "83d595cba4631af3",
   "outputs": [],
   "execution_count": null
  },
  {
   "metadata": {},
   "cell_type": "code",
   "outputs": [],
   "execution_count": null,
   "source": "",
   "id": "6b82f60bb4b108a"
  }
 ],
 "metadata": {
  "kernelspec": {
   "display_name": "Python 3",
   "language": "python",
   "name": "python3"
  },
  "language_info": {
   "codemirror_mode": {
    "name": "ipython",
    "version": 2
   },
   "file_extension": ".py",
   "mimetype": "text/x-python",
   "name": "python",
   "nbconvert_exporter": "python",
   "pygments_lexer": "ipython2",
   "version": "2.7.6"
  }
 },
 "nbformat": 4,
 "nbformat_minor": 5
}
